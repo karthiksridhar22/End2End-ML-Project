{
 "cells": [
  {
   "cell_type": "code",
   "execution_count": 2,
   "metadata": {},
   "outputs": [],
   "source": [
    "import os"
   ]
  },
  {
   "cell_type": "code",
   "execution_count": 3,
   "metadata": {},
   "outputs": [
    {
     "data": {
      "text/plain": [
       "'/Users/karthiksridhar/Documents/End2End-ML-Project/research'"
      ]
     },
     "execution_count": 3,
     "metadata": {},
     "output_type": "execute_result"
    }
   ],
   "source": [
    "%pwd"
   ]
  },
  {
   "cell_type": "code",
   "execution_count": 4,
   "metadata": {},
   "outputs": [],
   "source": [
    "os.chdir(\"../\")"
   ]
  },
  {
   "cell_type": "code",
   "execution_count": 5,
   "metadata": {},
   "outputs": [
    {
     "data": {
      "text/plain": [
       "'/Users/karthiksridhar/Documents/End2End-ML-Project'"
      ]
     },
     "execution_count": 5,
     "metadata": {},
     "output_type": "execute_result"
    }
   ],
   "source": [
    "%pwd"
   ]
  },
  {
   "cell_type": "code",
   "execution_count": 6,
   "metadata": {},
   "outputs": [],
   "source": [
    "from dataclasses import dataclass\n",
    "from pathlib import Path\n",
    "@dataclass(frozen=True)\n",
    "class DataTransformationConfig:\n",
    "  root_dir: Path\n",
    "  data_dir: Path"
   ]
  },
  {
   "cell_type": "code",
   "execution_count": 7,
   "metadata": {},
   "outputs": [],
   "source": [
    "from mlProject.constants import *\n",
    "from mlProject.utils.common import read_yaml, create_directories"
   ]
  },
  {
   "cell_type": "code",
   "execution_count": 8,
   "metadata": {},
   "outputs": [],
   "source": [
    "class ConfigurationManager:\n",
    "  def __init__(\n",
    "      self, \n",
    "      config_filepath = CONFIG_FILE_PATH,\n",
    "      params_filepath = PARAMS_FILE_PATH,\n",
    "      schema_filepath = SCHEMA_FILE_PATH\n",
    "  ):\n",
    "    self.config = read_yaml(config_filepath)\n",
    "    self.params = read_yaml(params_filepath)\n",
    "    self.schema = read_yaml(schema_filepath)\n",
    "\n",
    "    create_directories([self.config.artifacts_root])\n",
    "\n",
    "  def get_data_transformation_config(self) -> DataTransformationConfig:\n",
    "    config = self.config.data_transformation\n",
    "\n",
    "    create_directories([config.root_dir])\n",
    "\n",
    "    data_transformation_config = DataTransformationConfig(\n",
    "        root_dir=config.root_dir,\n",
    "        data_path=config.data_path\n",
    "    )\n",
    "\n",
    "    return data_transformation_config"
   ]
  },
  {
   "cell_type": "code",
   "execution_count": 9,
   "metadata": {},
   "outputs": [],
   "source": [
    "import os\n",
    "from mlProject import logger\n",
    "from sklearn.model_selection import train_test_split\n",
    "import pandas as pd"
   ]
  },
  {
   "cell_type": "code",
   "execution_count": 10,
   "metadata": {},
   "outputs": [],
   "source": [
    "class DataTransformation:\n",
    "  def __init__(self,config: DataTransformationConfig):\n",
    "    self.config = config\n",
    "\n",
    "    #We can do different data transformation techniques such as Scaler, PCA\n",
    "    #Simple EDA for now\n",
    "\n",
    "  def train_test_splitting(self):\n",
    "    data = pd.read_csv(self.config.data_dir)\n",
    "\n",
    "    #Split data into training and test splits (0.75, 0.25)\n",
    "    train, test = train_test_split(data)\n",
    "\n",
    "    train.to_csv(os.path.join(self.config.root_dir, \"train.csv\"), index = False)\n",
    "    test.to_csv(os.path.join(self.config.root_dir, \"test.csv\"), index = False)\n",
    "\n",
    "    logger.info(\"Split data into train and test\")\n",
    "    logger.info(f\"Training data shape: {train.shape}\")\n",
    "    logger.info(f\"Testing data shape: {test.shape}\")\n",
    "\n",
    "    logger.info(train.shape)\n",
    "    logger.info(test.shape)"
   ]
  },
  {
   "cell_type": "code",
   "execution_count": 12,
   "metadata": {},
   "outputs": [
    {
     "name": "stdout",
     "output_type": "stream",
     "text": [
      "[2024-10-18 17:53:40,780: INFO: common: yaml file: config/config.yaml loaded successfully]\n",
      "[2024-10-18 17:53:40,784: INFO: common: yaml file: params.yaml loaded successfully]\n",
      "[2024-10-18 17:53:40,785: INFO: common: yaml file: schema.yaml loaded successfully]\n",
      "[2024-10-18 17:53:40,786: INFO: common: created directory at: artifacts]\n",
      "[2024-10-18 17:53:40,787: INFO: common: created directory at: artifacts/data_transformation]\n",
      "[2024-10-18 17:53:40,846: INFO: 3498641678: Split data into train and test]\n",
      "[2024-10-18 17:53:40,846: INFO: 3498641678: Training data shape: (1199, 12)]\n",
      "[2024-10-18 17:53:40,846: INFO: 3498641678: Testing data shape: (400, 12)]\n",
      "(1199, 12)\n",
      "(400, 12)\n"
     ]
    }
   ],
   "source": [
    "try: \n",
    "  config = ConfigurationManager()\n",
    "  data_transformation_config = config.get_data_transformation_config()\n",
    "  obj = DataTransformation(config = data_transformation_config)\n",
    "  obj.train_test_splitting()\n",
    "except Exception as e:\n",
    "  e"
   ]
  },
  {
   "cell_type": "code",
   "execution_count": null,
   "metadata": {},
   "outputs": [],
   "source": []
  }
 ],
 "metadata": {
  "kernelspec": {
   "display_name": "mlops_new_env",
   "language": "python",
   "name": "python3"
  },
  "language_info": {
   "codemirror_mode": {
    "name": "ipython",
    "version": 3
   },
   "file_extension": ".py",
   "mimetype": "text/x-python",
   "name": "python",
   "nbconvert_exporter": "python",
   "pygments_lexer": "ipython3",
   "version": "3.10.15"
  }
 },
 "nbformat": 4,
 "nbformat_minor": 2
}
