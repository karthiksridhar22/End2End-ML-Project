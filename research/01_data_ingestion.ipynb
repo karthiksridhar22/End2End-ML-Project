{
 "cells": [
  {
   "cell_type": "code",
   "execution_count": 1,
   "metadata": {},
   "outputs": [],
   "source": [
    "import os"
   ]
  },
  {
   "cell_type": "code",
   "execution_count": 2,
   "metadata": {},
   "outputs": [
    {
     "data": {
      "text/plain": [
       "'/Users/karthiksridhar/Documents/End2End-ML-Project/research'"
      ]
     },
     "execution_count": 2,
     "metadata": {},
     "output_type": "execute_result"
    }
   ],
   "source": [
    "%pwd"
   ]
  },
  {
   "cell_type": "code",
   "execution_count": 3,
   "metadata": {},
   "outputs": [],
   "source": [
    "os.chdir(\"../\")"
   ]
  },
  {
   "cell_type": "code",
   "execution_count": 4,
   "metadata": {},
   "outputs": [
    {
     "data": {
      "text/plain": [
       "'/Users/karthiksridhar/Documents/End2End-ML-Project'"
      ]
     },
     "execution_count": 4,
     "metadata": {},
     "output_type": "execute_result"
    }
   ],
   "source": [
    "%pwd"
   ]
  },
  {
   "cell_type": "code",
   "execution_count": 5,
   "metadata": {},
   "outputs": [],
   "source": [
    "from dataclasses import dataclass\n",
    "from pathlib import Path\n",
    "\n",
    "@dataclass(frozen=True)\n",
    "class DataIngestionConfig:\n",
    "  root_dir: Path\n",
    "  source_URL: str\n",
    "  local_data_file: Path\n",
    "  unzip_dir: Path\n"
   ]
  },
  {
   "cell_type": "code",
   "execution_count": 6,
   "metadata": {},
   "outputs": [],
   "source": [
    "from mlProject.constants import *\n",
    "from mlProject.utils.common import read_yaml, create_directories"
   ]
  },
  {
   "cell_type": "code",
   "execution_count": 7,
   "metadata": {},
   "outputs": [],
   "source": [
    "class ConfigurationManager:\n",
    "  def __init__(\n",
    "      self, \n",
    "      config_filepath = CONFIG_FILE_PATH,\n",
    "      params_filepath = PARAMS_FILE_PATH,\n",
    "      schema_filepath = SCHEMA_FILE_PATH):\n",
    "        \n",
    "        self.config = read_yaml(config_filepath)\n",
    "        self.params = read_yaml(params_filepath)\n",
    "        self.schema = read_yaml(schema_filepath)\n",
    "\n",
    "        create_directories([self.config.artifacts_root])\n",
    "\n",
    "  def get_data_ingestion_config(self) -> DataIngestionConfig:\n",
    "      config = self.config.data_ingestion\n",
    "\n",
    "      data_ingestion_config = DataIngestionConfig(\n",
    "          root_dir = config.root_dir,\n",
    "          source_URL=config.source_URL, \n",
    "          local_data_file=config.local_data_file,\n",
    "          unzip_dir= config.unzip_dir\n",
    "      )\n",
    "\n",
    "      return data_ingestion_config\n",
    "            "
   ]
  },
  {
   "cell_type": "code",
   "execution_count": 22,
   "metadata": {},
   "outputs": [],
   "source": [
    "import os\n",
    "import requests\n",
    "import zipfile\n",
    "from mlProject import logger\n",
    "from mlProject.utils.common import get_size"
   ]
  },
  {
   "cell_type": "code",
   "execution_count": 25,
   "metadata": {},
   "outputs": [],
   "source": [
    "class DataIngestion:\n",
    "  def __init__(self, config: DataIngestionConfig):\n",
    "    self.config = config\n",
    "\n",
    "  def download_file(self):\n",
    "      # Ensure the directory 'artifacts/data_ingestion' exists\n",
    "      os.makedirs(self.config.root_dir, exist_ok=True)\n",
    "\n",
    "      # Define the path to save the downloaded file as 'data.zip'\n",
    "      data_zip_path = self.config.local_data_file\n",
    "\n",
    "      # Check if the file already exists\n",
    "      if not os.path.exists(data_zip_path):\n",
    "          # Download the file from the URL\n",
    "          r = requests.get(url=self.config.source_URL, stream=True)\n",
    "\n",
    "          # Save the file to the defined path\n",
    "          with open(data_zip_path, 'wb') as fd:\n",
    "              for chunk in r.iter_content(chunk_size=128):\n",
    "                  fd.write(chunk)\n",
    "          \n",
    "          logger.info(f\"File downloaded and saved as {data_zip_path}!\")\n",
    "      else:\n",
    "          logger.info(f\"{data_zip_path} already exists, with size: {get_size(Path(data_zip_path))}\")\n",
    "\n",
    "  \n",
    "  def extract_zip_file(self):\n",
    "\n",
    "    unzip_path = self.config.unzip_dir\n",
    "    os.makedirs(unzip_path, exist_ok=True)\n",
    "    with zipfile.ZipFile(self.config.local_data_file, 'r') as zip_ref:\n",
    "      zip_ref.extractall(unzip_path)\n",
    "\n"
   ]
  },
  {
   "cell_type": "code",
   "execution_count": 26,
   "metadata": {},
   "outputs": [
    {
     "name": "stdout",
     "output_type": "stream",
     "text": [
      "[2024-10-17 05:56:53,317: INFO: common: yaml file: config/config.yaml loaded successfully]\n",
      "[2024-10-17 05:56:53,320: INFO: common: yaml file: params.yaml loaded successfully]\n",
      "[2024-10-17 05:56:53,321: INFO: common: yaml file: schema.yaml loaded successfully]\n",
      "[2024-10-17 05:56:53,322: INFO: common: created directory at: artifacts]\n",
      "[2024-10-17 05:56:54,154: INFO: 2334480070: File downloaded and saved as artifacts/data_ingestion/data.zip!]\n"
     ]
    }
   ],
   "source": [
    "try: \n",
    "  config = ConfigurationManager()\n",
    "  data_ingestion_config = config.get_data_ingestion_config()\n",
    "  data_ingestion = DataIngestion(config=data_ingestion_config)\n",
    "  data_ingestion.download_file()\n",
    "  data_ingestion.extract_zip_file()\n",
    "except Exception as e:\n",
    "  raise e"
   ]
  },
  {
   "cell_type": "code",
   "execution_count": 21,
   "metadata": {},
   "outputs": [
    {
     "data": {
      "text/plain": [
       "'/Users/karthiksridhar/Documents/End2End-ML-Project'"
      ]
     },
     "execution_count": 21,
     "metadata": {},
     "output_type": "execute_result"
    }
   ],
   "source": [
    "%pwd"
   ]
  },
  {
   "cell_type": "code",
   "execution_count": null,
   "metadata": {},
   "outputs": [],
   "source": []
  }
 ],
 "metadata": {
  "kernelspec": {
   "display_name": "mlops_new_env",
   "language": "python",
   "name": "python3"
  },
  "language_info": {
   "codemirror_mode": {
    "name": "ipython",
    "version": 3
   },
   "file_extension": ".py",
   "mimetype": "text/x-python",
   "name": "python",
   "nbconvert_exporter": "python",
   "pygments_lexer": "ipython3",
   "version": "3.10.15"
  }
 },
 "nbformat": 4,
 "nbformat_minor": 2
}
